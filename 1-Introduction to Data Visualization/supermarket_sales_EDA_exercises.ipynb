{
 "cells": [
  {
   "cell_type": "markdown",
   "id": "4126af04",
   "metadata": {},
   "source": [
    "# Supermarket Sales Dataset:  Exploratory Data Analysis Exercise"
   ]
  },
  {
   "cell_type": "code",
   "execution_count": 1,
   "id": "97542f78",
   "metadata": {},
   "outputs": [],
   "source": [
    "import pandas as pd"
   ]
  },
  {
   "cell_type": "code",
   "execution_count": 3,
   "id": "fdbf39ad",
   "metadata": {},
   "outputs": [],
   "source": [
    "# import dataset in JN\n",
    "sales = pd.read_csv('supermarket_sales.csv')"
   ]
  },
  {
   "cell_type": "markdown",
   "id": "4d2a4a80",
   "metadata": {},
   "source": [
    "#### Display the first 5 rows of the dataframe"
   ]
  },
  {
   "cell_type": "code",
   "execution_count": 4,
   "id": "46e6ab73",
   "metadata": {},
   "outputs": [
    {
     "data": {
      "text/html": [
       "<div>\n",
       "<style scoped>\n",
       "    .dataframe tbody tr th:only-of-type {\n",
       "        vertical-align: middle;\n",
       "    }\n",
       "\n",
       "    .dataframe tbody tr th {\n",
       "        vertical-align: top;\n",
       "    }\n",
       "\n",
       "    .dataframe thead th {\n",
       "        text-align: right;\n",
       "    }\n",
       "</style>\n",
       "<table border=\"1\" class=\"dataframe\">\n",
       "  <thead>\n",
       "    <tr style=\"text-align: right;\">\n",
       "      <th></th>\n",
       "      <th>Invoice ID</th>\n",
       "      <th>Branch</th>\n",
       "      <th>City</th>\n",
       "      <th>Customer type</th>\n",
       "      <th>Gender</th>\n",
       "      <th>Product line</th>\n",
       "      <th>Unit price</th>\n",
       "      <th>Quantity</th>\n",
       "      <th>Tax 5%</th>\n",
       "      <th>Total</th>\n",
       "      <th>Date</th>\n",
       "      <th>Time</th>\n",
       "      <th>Payment</th>\n",
       "    </tr>\n",
       "  </thead>\n",
       "  <tbody>\n",
       "    <tr>\n",
       "      <th>0</th>\n",
       "      <td>750-67-8428</td>\n",
       "      <td>A</td>\n",
       "      <td>Yangon</td>\n",
       "      <td>Member</td>\n",
       "      <td>Female</td>\n",
       "      <td>Health and beauty</td>\n",
       "      <td>74.69</td>\n",
       "      <td>7.0</td>\n",
       "      <td>26.1415</td>\n",
       "      <td>548.9715</td>\n",
       "      <td>01/05/2019</td>\n",
       "      <td>13:08</td>\n",
       "      <td>Ewallet</td>\n",
       "    </tr>\n",
       "    <tr>\n",
       "      <th>1</th>\n",
       "      <td>226-31-3081</td>\n",
       "      <td>C</td>\n",
       "      <td>Naypyitaw</td>\n",
       "      <td>Normal</td>\n",
       "      <td>Female</td>\n",
       "      <td>Electronic accessories</td>\n",
       "      <td>15.28</td>\n",
       "      <td>5.0</td>\n",
       "      <td>3.8200</td>\n",
       "      <td>80.2200</td>\n",
       "      <td>03/08/2019</td>\n",
       "      <td>10:29</td>\n",
       "      <td>Cash</td>\n",
       "    </tr>\n",
       "    <tr>\n",
       "      <th>2</th>\n",
       "      <td>631-41-3108</td>\n",
       "      <td>A</td>\n",
       "      <td>Yangon</td>\n",
       "      <td>Normal</td>\n",
       "      <td>Male</td>\n",
       "      <td>Home and lifestyle</td>\n",
       "      <td>46.33</td>\n",
       "      <td>7.0</td>\n",
       "      <td>16.2155</td>\n",
       "      <td>340.5255</td>\n",
       "      <td>03/03/2019</td>\n",
       "      <td>13:23</td>\n",
       "      <td>Credit card</td>\n",
       "    </tr>\n",
       "    <tr>\n",
       "      <th>3</th>\n",
       "      <td>123-19-1176</td>\n",
       "      <td>A</td>\n",
       "      <td>Yangon</td>\n",
       "      <td>Member</td>\n",
       "      <td>Male</td>\n",
       "      <td>Health and beauty</td>\n",
       "      <td>58.22</td>\n",
       "      <td>8.0</td>\n",
       "      <td>23.2880</td>\n",
       "      <td>489.0480</td>\n",
       "      <td>01/27/2019</td>\n",
       "      <td>20:33</td>\n",
       "      <td>Ewallet</td>\n",
       "    </tr>\n",
       "    <tr>\n",
       "      <th>4</th>\n",
       "      <td>373-73-7910</td>\n",
       "      <td>A</td>\n",
       "      <td>Yangon</td>\n",
       "      <td>Normal</td>\n",
       "      <td>Male</td>\n",
       "      <td>Sports and travel</td>\n",
       "      <td>86.31</td>\n",
       "      <td>7.0</td>\n",
       "      <td>30.2085</td>\n",
       "      <td>634.3785</td>\n",
       "      <td>02/08/2019</td>\n",
       "      <td>10:37</td>\n",
       "      <td>Ewallet</td>\n",
       "    </tr>\n",
       "  </tbody>\n",
       "</table>\n",
       "</div>"
      ],
      "text/plain": [
       "    Invoice ID Branch       City Customer type  Gender  \\\n",
       "0  750-67-8428      A     Yangon        Member  Female   \n",
       "1  226-31-3081      C  Naypyitaw        Normal  Female   \n",
       "2  631-41-3108      A     Yangon        Normal    Male   \n",
       "3  123-19-1176      A     Yangon        Member    Male   \n",
       "4  373-73-7910      A     Yangon        Normal    Male   \n",
       "\n",
       "             Product line  Unit price  Quantity   Tax 5%     Total  \\\n",
       "0       Health and beauty       74.69       7.0  26.1415  548.9715   \n",
       "1  Electronic accessories       15.28       5.0   3.8200   80.2200   \n",
       "2      Home and lifestyle       46.33       7.0  16.2155  340.5255   \n",
       "3       Health and beauty       58.22       8.0  23.2880  489.0480   \n",
       "4       Sports and travel       86.31       7.0  30.2085  634.3785   \n",
       "\n",
       "         Date   Time      Payment  \n",
       "0  01/05/2019  13:08      Ewallet  \n",
       "1  03/08/2019  10:29         Cash  \n",
       "2  03/03/2019  13:23  Credit card  \n",
       "3  01/27/2019  20:33      Ewallet  \n",
       "4  02/08/2019  10:37      Ewallet  "
      ]
     },
     "execution_count": 4,
     "metadata": {},
     "output_type": "execute_result"
    }
   ],
   "source": [
    "sales.head()"
   ]
  },
  {
   "cell_type": "markdown",
   "id": "61e2ab94",
   "metadata": {},
   "source": [
    "#### Check the basic details"
   ]
  },
  {
   "cell_type": "code",
   "execution_count": 5,
   "id": "ee0a42b7",
   "metadata": {},
   "outputs": [
    {
     "name": "stdout",
     "output_type": "stream",
     "text": [
      "<class 'pandas.core.frame.DataFrame'>\n",
      "RangeIndex: 1007 entries, 0 to 1006\n",
      "Data columns (total 13 columns):\n",
      " #   Column         Non-Null Count  Dtype  \n",
      "---  ------         --------------  -----  \n",
      " 0   Invoice ID     1000 non-null   object \n",
      " 1   Branch         1000 non-null   object \n",
      " 2   City           1000 non-null   object \n",
      " 3   Customer type  1000 non-null   object \n",
      " 4   Gender         1000 non-null   object \n",
      " 5   Product line   1000 non-null   object \n",
      " 6   Unit price     1000 non-null   float64\n",
      " 7   Quantity       1000 non-null   float64\n",
      " 8   Tax 5%         1000 non-null   float64\n",
      " 9   Total          1000 non-null   float64\n",
      " 10  Date           1000 non-null   object \n",
      " 11  Time           1000 non-null   object \n",
      " 12  Payment        1000 non-null   object \n",
      "dtypes: float64(4), object(9)\n",
      "memory usage: 102.4+ KB\n"
     ]
    }
   ],
   "source": [
    "sales.info()"
   ]
  },
  {
   "cell_type": "markdown",
   "id": "46613fb3",
   "metadata": {},
   "source": [
    "Based from the dataset information, the Invoice ID shoud be in string  data type while Date and Time are should be in date time data type \n",
    "\n",
    "In order to change this data types we need to convert these columns in their respective data types"
   ]
  },
  {
   "cell_type": "code",
   "execution_count": 13,
   "id": "ebc93315",
   "metadata": {},
   "outputs": [
    {
     "name": "stdout",
     "output_type": "stream",
     "text": [
      "<class 'pandas.core.frame.DataFrame'>\n",
      "RangeIndex: 1007 entries, 0 to 1006\n",
      "Data columns (total 13 columns):\n",
      " #   Column         Non-Null Count  Dtype         \n",
      "---  ------         --------------  -----         \n",
      " 0   Invoice ID     1007 non-null   object        \n",
      " 1   Branch         1000 non-null   object        \n",
      " 2   City           1000 non-null   object        \n",
      " 3   Customer type  1000 non-null   object        \n",
      " 4   Gender         1000 non-null   object        \n",
      " 5   Product line   1000 non-null   object        \n",
      " 6   Unit price     1000 non-null   float64       \n",
      " 7   Quantity       1000 non-null   float64       \n",
      " 8   Tax 5%         1000 non-null   float64       \n",
      " 9   Total          1000 non-null   float64       \n",
      " 10  Date           1000 non-null   datetime64[ns]\n",
      " 11  Time           1000 non-null   datetime64[ns]\n",
      " 12  Payment        1000 non-null   object        \n",
      "dtypes: datetime64[ns](2), float64(4), object(7)\n",
      "memory usage: 102.4+ KB\n"
     ]
    }
   ],
   "source": [
    "# convert into string\n",
    "sales['Invoice ID'] = sales['Invoice ID'].astype(str)\n",
    "\n",
    "#  Converting object to datetime\n",
    "sales['Date'] = pd.to_datetime(sales['Date'], format = '%m/%d/%Y')\n",
    "\n",
    "#  Converting object to datetime\n",
    "sales['Time'] = pd.to_datetime(sales['Time'], format = '%H:%M')\n",
    "\n",
    "sales.info()"
   ]
  },
  {
   "cell_type": "markdown",
   "id": "a5cfbe07",
   "metadata": {},
   "source": [
    "The data types in our dataset is now corrected. \n",
    "\n",
    "#### We can proceed to the number of rows and columns"
   ]
  },
  {
   "cell_type": "code",
   "execution_count": 14,
   "id": "342505f8",
   "metadata": {},
   "outputs": [
    {
     "data": {
      "text/plain": [
       "(1007, 13)"
      ]
     },
     "execution_count": 14,
     "metadata": {},
     "output_type": "execute_result"
    }
   ],
   "source": [
    "sales.shape"
   ]
  },
  {
   "cell_type": "markdown",
   "id": "68970d88",
   "metadata": {},
   "source": [
    "We have 1007 rows and 13 rows in our dataset"
   ]
  },
  {
   "cell_type": "markdown",
   "id": "55dad57a",
   "metadata": {},
   "source": [
    "### Data Cleaning"
   ]
  },
  {
   "cell_type": "markdown",
   "id": "bb837b91",
   "metadata": {},
   "source": [
    "#### Investigate for null values"
   ]
  },
  {
   "cell_type": "code",
   "execution_count": 16,
   "id": "95d12290",
   "metadata": {},
   "outputs": [
    {
     "data": {
      "text/plain": [
       "Invoice ID       0\n",
       "Branch           7\n",
       "City             7\n",
       "Customer type    7\n",
       "Gender           7\n",
       "Product line     7\n",
       "Unit price       7\n",
       "Quantity         7\n",
       "Tax 5%           7\n",
       "Total            7\n",
       "Date             7\n",
       "Time             7\n",
       "Payment          7\n",
       "dtype: int64"
      ]
     },
     "execution_count": 16,
     "metadata": {},
     "output_type": "execute_result"
    }
   ],
   "source": [
    "sales.isnull().sum()"
   ]
  },
  {
   "cell_type": "code",
   "execution_count": 18,
   "id": "6b5451e4",
   "metadata": {},
   "outputs": [
    {
     "data": {
      "text/html": [
       "<div>\n",
       "<style scoped>\n",
       "    .dataframe tbody tr th:only-of-type {\n",
       "        vertical-align: middle;\n",
       "    }\n",
       "\n",
       "    .dataframe tbody tr th {\n",
       "        vertical-align: top;\n",
       "    }\n",
       "\n",
       "    .dataframe thead th {\n",
       "        text-align: right;\n",
       "    }\n",
       "</style>\n",
       "<table border=\"1\" class=\"dataframe\">\n",
       "  <thead>\n",
       "    <tr style=\"text-align: right;\">\n",
       "      <th></th>\n",
       "      <th>Invoice ID</th>\n",
       "      <th>Branch</th>\n",
       "      <th>City</th>\n",
       "      <th>Customer type</th>\n",
       "      <th>Gender</th>\n",
       "      <th>Product line</th>\n",
       "      <th>Unit price</th>\n",
       "      <th>Quantity</th>\n",
       "      <th>Tax 5%</th>\n",
       "      <th>Total</th>\n",
       "      <th>Date</th>\n",
       "      <th>Time</th>\n",
       "      <th>Payment</th>\n",
       "    </tr>\n",
       "  </thead>\n",
       "  <tbody>\n",
       "    <tr>\n",
       "      <th>65</th>\n",
       "      <td>nan</td>\n",
       "      <td>NaN</td>\n",
       "      <td>NaN</td>\n",
       "      <td>NaN</td>\n",
       "      <td>NaN</td>\n",
       "      <td>NaN</td>\n",
       "      <td>NaN</td>\n",
       "      <td>NaN</td>\n",
       "      <td>NaN</td>\n",
       "      <td>NaN</td>\n",
       "      <td>NaT</td>\n",
       "      <td>NaT</td>\n",
       "      <td>NaN</td>\n",
       "    </tr>\n",
       "    <tr>\n",
       "      <th>72</th>\n",
       "      <td>nan</td>\n",
       "      <td>NaN</td>\n",
       "      <td>NaN</td>\n",
       "      <td>NaN</td>\n",
       "      <td>NaN</td>\n",
       "      <td>NaN</td>\n",
       "      <td>NaN</td>\n",
       "      <td>NaN</td>\n",
       "      <td>NaN</td>\n",
       "      <td>NaN</td>\n",
       "      <td>NaT</td>\n",
       "      <td>NaT</td>\n",
       "      <td>NaN</td>\n",
       "    </tr>\n",
       "    <tr>\n",
       "      <th>80</th>\n",
       "      <td>nan</td>\n",
       "      <td>NaN</td>\n",
       "      <td>NaN</td>\n",
       "      <td>NaN</td>\n",
       "      <td>NaN</td>\n",
       "      <td>NaN</td>\n",
       "      <td>NaN</td>\n",
       "      <td>NaN</td>\n",
       "      <td>NaN</td>\n",
       "      <td>NaN</td>\n",
       "      <td>NaT</td>\n",
       "      <td>NaT</td>\n",
       "      <td>NaN</td>\n",
       "    </tr>\n",
       "    <tr>\n",
       "      <th>93</th>\n",
       "      <td>nan</td>\n",
       "      <td>NaN</td>\n",
       "      <td>NaN</td>\n",
       "      <td>NaN</td>\n",
       "      <td>NaN</td>\n",
       "      <td>NaN</td>\n",
       "      <td>NaN</td>\n",
       "      <td>NaN</td>\n",
       "      <td>NaN</td>\n",
       "      <td>NaN</td>\n",
       "      <td>NaT</td>\n",
       "      <td>NaT</td>\n",
       "      <td>NaN</td>\n",
       "    </tr>\n",
       "    <tr>\n",
       "      <th>100</th>\n",
       "      <td>nan</td>\n",
       "      <td>NaN</td>\n",
       "      <td>NaN</td>\n",
       "      <td>NaN</td>\n",
       "      <td>NaN</td>\n",
       "      <td>NaN</td>\n",
       "      <td>NaN</td>\n",
       "      <td>NaN</td>\n",
       "      <td>NaN</td>\n",
       "      <td>NaN</td>\n",
       "      <td>NaT</td>\n",
       "      <td>NaT</td>\n",
       "      <td>NaN</td>\n",
       "    </tr>\n",
       "    <tr>\n",
       "      <th>114</th>\n",
       "      <td>nan</td>\n",
       "      <td>NaN</td>\n",
       "      <td>NaN</td>\n",
       "      <td>NaN</td>\n",
       "      <td>NaN</td>\n",
       "      <td>NaN</td>\n",
       "      <td>NaN</td>\n",
       "      <td>NaN</td>\n",
       "      <td>NaN</td>\n",
       "      <td>NaN</td>\n",
       "      <td>NaT</td>\n",
       "      <td>NaT</td>\n",
       "      <td>NaN</td>\n",
       "    </tr>\n",
       "    <tr>\n",
       "      <th>125</th>\n",
       "      <td>nan</td>\n",
       "      <td>NaN</td>\n",
       "      <td>NaN</td>\n",
       "      <td>NaN</td>\n",
       "      <td>NaN</td>\n",
       "      <td>NaN</td>\n",
       "      <td>NaN</td>\n",
       "      <td>NaN</td>\n",
       "      <td>NaN</td>\n",
       "      <td>NaN</td>\n",
       "      <td>NaT</td>\n",
       "      <td>NaT</td>\n",
       "      <td>NaN</td>\n",
       "    </tr>\n",
       "  </tbody>\n",
       "</table>\n",
       "</div>"
      ],
      "text/plain": [
       "    Invoice ID Branch City Customer type Gender Product line  Unit price  \\\n",
       "65         nan    NaN  NaN           NaN    NaN          NaN         NaN   \n",
       "72         nan    NaN  NaN           NaN    NaN          NaN         NaN   \n",
       "80         nan    NaN  NaN           NaN    NaN          NaN         NaN   \n",
       "93         nan    NaN  NaN           NaN    NaN          NaN         NaN   \n",
       "100        nan    NaN  NaN           NaN    NaN          NaN         NaN   \n",
       "114        nan    NaN  NaN           NaN    NaN          NaN         NaN   \n",
       "125        nan    NaN  NaN           NaN    NaN          NaN         NaN   \n",
       "\n",
       "     Quantity  Tax 5%  Total Date Time Payment  \n",
       "65        NaN     NaN    NaN  NaT  NaT     NaN  \n",
       "72        NaN     NaN    NaN  NaT  NaT     NaN  \n",
       "80        NaN     NaN    NaN  NaT  NaT     NaN  \n",
       "93        NaN     NaN    NaN  NaT  NaT     NaN  \n",
       "100       NaN     NaN    NaN  NaT  NaT     NaN  \n",
       "114       NaN     NaN    NaN  NaT  NaT     NaN  \n",
       "125       NaN     NaN    NaN  NaT  NaT     NaN  "
      ]
     },
     "execution_count": 18,
     "metadata": {},
     "output_type": "execute_result"
    }
   ],
   "source": [
    "sales[sales['Branch'].isna()]"
   ]
  },
  {
   "cell_type": "code",
   "execution_count": 22,
   "id": "76499637",
   "metadata": {},
   "outputs": [
    {
     "data": {
      "text/plain": [
       "Invoice ID       0\n",
       "Branch           0\n",
       "City             0\n",
       "Customer type    0\n",
       "Gender           0\n",
       "Product line     0\n",
       "Unit price       0\n",
       "Quantity         0\n",
       "Tax 5%           0\n",
       "Total            0\n",
       "Date             0\n",
       "Time             0\n",
       "Payment          0\n",
       "dtype: int64"
      ]
     },
     "execution_count": 22,
     "metadata": {},
     "output_type": "execute_result"
    }
   ],
   "source": [
    "sales = sales.dropna() # remove the null values\n",
    "sales.isnull().sum()"
   ]
  },
  {
   "cell_type": "markdown",
   "id": "62806991",
   "metadata": {},
   "source": [
    "We sucessfully removed the null values on our dataset."
   ]
  },
  {
   "cell_type": "markdown",
   "id": "9e951e36",
   "metadata": {},
   "source": [
    "#### Display the updated basic details of the dataframe"
   ]
  },
  {
   "cell_type": "code",
   "execution_count": 23,
   "id": "8a9b80bc",
   "metadata": {},
   "outputs": [
    {
     "name": "stdout",
     "output_type": "stream",
     "text": [
      "<class 'pandas.core.frame.DataFrame'>\n",
      "Int64Index: 1000 entries, 0 to 1006\n",
      "Data columns (total 13 columns):\n",
      " #   Column         Non-Null Count  Dtype         \n",
      "---  ------         --------------  -----         \n",
      " 0   Invoice ID     1000 non-null   object        \n",
      " 1   Branch         1000 non-null   object        \n",
      " 2   City           1000 non-null   object        \n",
      " 3   Customer type  1000 non-null   object        \n",
      " 4   Gender         1000 non-null   object        \n",
      " 5   Product line   1000 non-null   object        \n",
      " 6   Unit price     1000 non-null   float64       \n",
      " 7   Quantity       1000 non-null   float64       \n",
      " 8   Tax 5%         1000 non-null   float64       \n",
      " 9   Total          1000 non-null   float64       \n",
      " 10  Date           1000 non-null   datetime64[ns]\n",
      " 11  Time           1000 non-null   datetime64[ns]\n",
      " 12  Payment        1000 non-null   object        \n",
      "dtypes: datetime64[ns](2), float64(4), object(7)\n",
      "memory usage: 109.4+ KB\n"
     ]
    }
   ],
   "source": [
    "sales.info()"
   ]
  }
 ],
 "metadata": {
  "kernelspec": {
   "display_name": "Python 3 (ipykernel)",
   "language": "python",
   "name": "python3"
  },
  "language_info": {
   "codemirror_mode": {
    "name": "ipython",
    "version": 3
   },
   "file_extension": ".py",
   "mimetype": "text/x-python",
   "name": "python",
   "nbconvert_exporter": "python",
   "pygments_lexer": "ipython3",
   "version": "3.9.12"
  }
 },
 "nbformat": 4,
 "nbformat_minor": 5
}
