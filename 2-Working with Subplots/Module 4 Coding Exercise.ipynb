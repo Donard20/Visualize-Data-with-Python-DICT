{
 "cells": [
  {
   "cell_type": "markdown",
   "id": "64e76e43",
   "metadata": {},
   "source": [
    "# Coding Exercise 4.4"
   ]
  },
  {
   "cell_type": "code",
   "execution_count": 26,
   "id": "130ffda7",
   "metadata": {},
   "outputs": [],
   "source": [
    "import pandas as pd\n",
    "import matplotlib.pyplot as plt"
   ]
  },
  {
   "cell_type": "code",
   "execution_count": 27,
   "id": "1fc6cffd",
   "metadata": {},
   "outputs": [
    {
     "data": {
      "text/html": [
       "<div>\n",
       "<style scoped>\n",
       "    .dataframe tbody tr th:only-of-type {\n",
       "        vertical-align: middle;\n",
       "    }\n",
       "\n",
       "    .dataframe tbody tr th {\n",
       "        vertical-align: top;\n",
       "    }\n",
       "\n",
       "    .dataframe thead th {\n",
       "        text-align: right;\n",
       "    }\n",
       "</style>\n",
       "<table border=\"1\" class=\"dataframe\">\n",
       "  <thead>\n",
       "    <tr style=\"text-align: right;\">\n",
       "      <th></th>\n",
       "      <th>Invoice ID</th>\n",
       "      <th>Branch</th>\n",
       "      <th>City</th>\n",
       "      <th>Customer type</th>\n",
       "      <th>Gender</th>\n",
       "      <th>Product line</th>\n",
       "      <th>Unit price</th>\n",
       "      <th>Quantity</th>\n",
       "      <th>Tax 5%</th>\n",
       "      <th>Total</th>\n",
       "      <th>Date</th>\n",
       "      <th>Time</th>\n",
       "      <th>Payment</th>\n",
       "    </tr>\n",
       "  </thead>\n",
       "  <tbody>\n",
       "    <tr>\n",
       "      <th>0</th>\n",
       "      <td>750-67-8428</td>\n",
       "      <td>A</td>\n",
       "      <td>Yangon</td>\n",
       "      <td>Member</td>\n",
       "      <td>Female</td>\n",
       "      <td>Health and beauty</td>\n",
       "      <td>74.69</td>\n",
       "      <td>7.0</td>\n",
       "      <td>26.1415</td>\n",
       "      <td>548.9715</td>\n",
       "      <td>01/05/2019</td>\n",
       "      <td>13:08</td>\n",
       "      <td>Ewallet</td>\n",
       "    </tr>\n",
       "    <tr>\n",
       "      <th>1</th>\n",
       "      <td>226-31-3081</td>\n",
       "      <td>C</td>\n",
       "      <td>Naypyitaw</td>\n",
       "      <td>Normal</td>\n",
       "      <td>Female</td>\n",
       "      <td>Electronic accessories</td>\n",
       "      <td>15.28</td>\n",
       "      <td>5.0</td>\n",
       "      <td>3.8200</td>\n",
       "      <td>80.2200</td>\n",
       "      <td>03/08/2019</td>\n",
       "      <td>10:29</td>\n",
       "      <td>Cash</td>\n",
       "    </tr>\n",
       "    <tr>\n",
       "      <th>2</th>\n",
       "      <td>631-41-3108</td>\n",
       "      <td>A</td>\n",
       "      <td>Yangon</td>\n",
       "      <td>Normal</td>\n",
       "      <td>Male</td>\n",
       "      <td>Home and lifestyle</td>\n",
       "      <td>46.33</td>\n",
       "      <td>7.0</td>\n",
       "      <td>16.2155</td>\n",
       "      <td>340.5255</td>\n",
       "      <td>03/03/2019</td>\n",
       "      <td>13:23</td>\n",
       "      <td>Credit card</td>\n",
       "    </tr>\n",
       "    <tr>\n",
       "      <th>3</th>\n",
       "      <td>123-19-1176</td>\n",
       "      <td>A</td>\n",
       "      <td>Yangon</td>\n",
       "      <td>Member</td>\n",
       "      <td>Male</td>\n",
       "      <td>Health and beauty</td>\n",
       "      <td>58.22</td>\n",
       "      <td>8.0</td>\n",
       "      <td>23.2880</td>\n",
       "      <td>489.0480</td>\n",
       "      <td>01/27/2019</td>\n",
       "      <td>20:33</td>\n",
       "      <td>Ewallet</td>\n",
       "    </tr>\n",
       "    <tr>\n",
       "      <th>4</th>\n",
       "      <td>373-73-7910</td>\n",
       "      <td>A</td>\n",
       "      <td>Yangon</td>\n",
       "      <td>Normal</td>\n",
       "      <td>Male</td>\n",
       "      <td>Sports and travel</td>\n",
       "      <td>86.31</td>\n",
       "      <td>7.0</td>\n",
       "      <td>30.2085</td>\n",
       "      <td>634.3785</td>\n",
       "      <td>02/08/2019</td>\n",
       "      <td>10:37</td>\n",
       "      <td>Ewallet</td>\n",
       "    </tr>\n",
       "    <tr>\n",
       "      <th>...</th>\n",
       "      <td>...</td>\n",
       "      <td>...</td>\n",
       "      <td>...</td>\n",
       "      <td>...</td>\n",
       "      <td>...</td>\n",
       "      <td>...</td>\n",
       "      <td>...</td>\n",
       "      <td>...</td>\n",
       "      <td>...</td>\n",
       "      <td>...</td>\n",
       "      <td>...</td>\n",
       "      <td>...</td>\n",
       "      <td>...</td>\n",
       "    </tr>\n",
       "    <tr>\n",
       "      <th>1002</th>\n",
       "      <td>233-67-5758</td>\n",
       "      <td>C</td>\n",
       "      <td>Naypyitaw</td>\n",
       "      <td>Normal</td>\n",
       "      <td>Male</td>\n",
       "      <td>Health and beauty</td>\n",
       "      <td>40.35</td>\n",
       "      <td>1.0</td>\n",
       "      <td>2.0175</td>\n",
       "      <td>42.3675</td>\n",
       "      <td>01/29/2019</td>\n",
       "      <td>13:46</td>\n",
       "      <td>Ewallet</td>\n",
       "    </tr>\n",
       "    <tr>\n",
       "      <th>1003</th>\n",
       "      <td>303-96-2227</td>\n",
       "      <td>B</td>\n",
       "      <td>Mandalay</td>\n",
       "      <td>Normal</td>\n",
       "      <td>Female</td>\n",
       "      <td>Home and lifestyle</td>\n",
       "      <td>97.38</td>\n",
       "      <td>10.0</td>\n",
       "      <td>48.6900</td>\n",
       "      <td>1022.4900</td>\n",
       "      <td>03/02/2019</td>\n",
       "      <td>17:16</td>\n",
       "      <td>Ewallet</td>\n",
       "    </tr>\n",
       "    <tr>\n",
       "      <th>1004</th>\n",
       "      <td>727-02-1313</td>\n",
       "      <td>A</td>\n",
       "      <td>Yangon</td>\n",
       "      <td>Member</td>\n",
       "      <td>Male</td>\n",
       "      <td>Food and beverages</td>\n",
       "      <td>31.84</td>\n",
       "      <td>1.0</td>\n",
       "      <td>1.5920</td>\n",
       "      <td>33.4320</td>\n",
       "      <td>02/09/2019</td>\n",
       "      <td>13:22</td>\n",
       "      <td>Cash</td>\n",
       "    </tr>\n",
       "    <tr>\n",
       "      <th>1005</th>\n",
       "      <td>347-56-2442</td>\n",
       "      <td>A</td>\n",
       "      <td>Yangon</td>\n",
       "      <td>Normal</td>\n",
       "      <td>Male</td>\n",
       "      <td>Home and lifestyle</td>\n",
       "      <td>65.82</td>\n",
       "      <td>1.0</td>\n",
       "      <td>3.2910</td>\n",
       "      <td>69.1110</td>\n",
       "      <td>02/22/2019</td>\n",
       "      <td>15:33</td>\n",
       "      <td>Cash</td>\n",
       "    </tr>\n",
       "    <tr>\n",
       "      <th>1006</th>\n",
       "      <td>849-09-3807</td>\n",
       "      <td>A</td>\n",
       "      <td>Yangon</td>\n",
       "      <td>Member</td>\n",
       "      <td>Female</td>\n",
       "      <td>Fashion accessories</td>\n",
       "      <td>88.34</td>\n",
       "      <td>7.0</td>\n",
       "      <td>30.9190</td>\n",
       "      <td>649.2990</td>\n",
       "      <td>02/18/2019</td>\n",
       "      <td>13:28</td>\n",
       "      <td>Cash</td>\n",
       "    </tr>\n",
       "  </tbody>\n",
       "</table>\n",
       "<p>1007 rows × 13 columns</p>\n",
       "</div>"
      ],
      "text/plain": [
       "       Invoice ID Branch       City Customer type  Gender  \\\n",
       "0     750-67-8428      A     Yangon        Member  Female   \n",
       "1     226-31-3081      C  Naypyitaw        Normal  Female   \n",
       "2     631-41-3108      A     Yangon        Normal    Male   \n",
       "3     123-19-1176      A     Yangon        Member    Male   \n",
       "4     373-73-7910      A     Yangon        Normal    Male   \n",
       "...           ...    ...        ...           ...     ...   \n",
       "1002  233-67-5758      C  Naypyitaw        Normal    Male   \n",
       "1003  303-96-2227      B   Mandalay        Normal  Female   \n",
       "1004  727-02-1313      A     Yangon        Member    Male   \n",
       "1005  347-56-2442      A     Yangon        Normal    Male   \n",
       "1006  849-09-3807      A     Yangon        Member  Female   \n",
       "\n",
       "                Product line  Unit price  Quantity   Tax 5%      Total  \\\n",
       "0          Health and beauty       74.69       7.0  26.1415   548.9715   \n",
       "1     Electronic accessories       15.28       5.0   3.8200    80.2200   \n",
       "2         Home and lifestyle       46.33       7.0  16.2155   340.5255   \n",
       "3          Health and beauty       58.22       8.0  23.2880   489.0480   \n",
       "4          Sports and travel       86.31       7.0  30.2085   634.3785   \n",
       "...                      ...         ...       ...      ...        ...   \n",
       "1002       Health and beauty       40.35       1.0   2.0175    42.3675   \n",
       "1003      Home and lifestyle       97.38      10.0  48.6900  1022.4900   \n",
       "1004      Food and beverages       31.84       1.0   1.5920    33.4320   \n",
       "1005      Home and lifestyle       65.82       1.0   3.2910    69.1110   \n",
       "1006     Fashion accessories       88.34       7.0  30.9190   649.2990   \n",
       "\n",
       "            Date   Time      Payment  \n",
       "0     01/05/2019  13:08      Ewallet  \n",
       "1     03/08/2019  10:29         Cash  \n",
       "2     03/03/2019  13:23  Credit card  \n",
       "3     01/27/2019  20:33      Ewallet  \n",
       "4     02/08/2019  10:37      Ewallet  \n",
       "...          ...    ...          ...  \n",
       "1002  01/29/2019  13:46      Ewallet  \n",
       "1003  03/02/2019  17:16      Ewallet  \n",
       "1004  02/09/2019  13:22         Cash  \n",
       "1005  02/22/2019  15:33         Cash  \n",
       "1006  02/18/2019  13:28         Cash  \n",
       "\n",
       "[1007 rows x 13 columns]"
      ]
     },
     "execution_count": 27,
     "metadata": {},
     "output_type": "execute_result"
    }
   ],
   "source": [
    "sales = pd.read_csv('supermarket_sales.csv')\n",
    "\n",
    "sales"
   ]
  },
  {
   "cell_type": "markdown",
   "id": "bebaeba2",
   "metadata": {},
   "source": [
    "#### Total sales by payment method"
   ]
  },
  {
   "cell_type": "code",
   "execution_count": 41,
   "id": "3f95d231",
   "metadata": {},
   "outputs": [
    {
     "data": {
      "image/png": "[encoded data removed]",
      "text/plain": [
       "<Figure size 432x288 with 1 Axes>"
      ]
     },
     "metadata": {
      "needs_background": "light"
     },
     "output_type": "display_data"
    }
   ],
   "source": [
    "p_methods = ['Cash', 'Credit card', 'Ewallet']\n",
    "plt.bar(p_methods, sales.groupby('Payment').sum()['Total'], color = 'grey')\n",
    "\n",
    "plt.title(\"Total sales by payment\")\n",
    "plt.ylabel('Sales in Kyat (K)')\n",
    "plt.xlabel('')\n",
    "\n",
    "plt.show()"
   ]
  },
  {
   "cell_type": "markdown",
   "id": "7a4a4a4d",
   "metadata": {},
   "source": [
    "#### Total sales by Gender"
   ]
  },
  {
   "cell_type": "code",
   "execution_count": 42,
   "id": "7217d93d",
   "metadata": {
    "scrolled": true
   },
   "outputs": [
    {
     "data": {
      "image/png": "[encoded data removed]",
      "text/plain": [
       "<Figure size 432x288 with 1 Axes>"
      ]
     },
     "metadata": {
      "needs_background": "light"
     },
     "output_type": "display_data"
    }
   ],
   "source": [
    "gender = ['Male', 'Female']\n",
    "plt.bar(gender, sales.groupby('Gender').sum()['Total'], color = 'grey')\n",
    "\n",
    "plt.title(\"Total sales by Gender\")\n",
    "plt.ylabel('Sales in Kyat (K)')\n",
    "plt.xlabel('')\n",
    "\n",
    "plt.show()"
   ]
  },
  {
   "cell_type": "markdown",
   "id": "b7dde2ff",
   "metadata": {},
   "source": [
    "#### Side by Side Graph"
   ]
  },
  {
   "cell_type": "code",
   "execution_count": 48,
   "id": "f7ec9624",
   "metadata": {},
   "outputs": [
    {
     "data": {
      "image/png": "[encoded data removed]",
      "text/plain": [
       "<Figure size 864x576 with 2 Axes>"
      ]
     },
     "metadata": {
      "needs_background": "light"
     },
     "output_type": "display_data"
    }
   ],
   "source": [
    "fig = plt.figure(figsize =(12,8))\n",
    "\n",
    "# plot 1:\n",
    "plt.subplot(1, 2, 1)\n",
    "p_methods = ['Cash', 'Credit card', 'Ewallet']\n",
    "plt.bar(p_methods, sales.groupby('Payment').sum()['Total'], color = 'grey')\n",
    "\n",
    "plt.title(\"Total sales by payment\")\n",
    "plt.ylabel('Sales in Kyat (K)')\n",
    "plt.xlabel('')\n",
    "\n",
    "# plot 2:\n",
    "plt.subplot(1, 2, 2)\n",
    "gender = ['Male', 'Female']\n",
    "plt.bar(gender, sales.groupby('Gender').sum()['Total'], color = 'grey')\n",
    "\n",
    "plt.title(\"Total sales by Gender\")\n",
    "plt.ylabel('Sales in Kyat (K)')\n",
    "plt.xlabel('')\n",
    "\n",
    "plt.show()"
   ]
  },
  {
   "cell_type": "markdown",
   "id": "1f9722cb",
   "metadata": {},
   "source": [
    "#### Placing the correct scale"
   ]
  },
  {
   "cell_type": "code",
   "execution_count": 54,
   "id": "e912dbdf",
   "metadata": {},
   "outputs": [
    {
     "data": {
      "image/png": "[encoded data removed]",
      "text/plain": [
       "<Figure size 864x576 with 2 Axes>"
      ]
     },
     "metadata": {
      "needs_background": "light"
     },
     "output_type": "display_data"
    }
   ],
   "source": [
    "fig = plt.figure(figsize =(12,8))\n",
    "\n",
    "# plot 1:\n",
    "plt.subplot(1, 2, 1)\n",
    "p_methods = ['Cash', 'Credit card', 'Ewallet']\n",
    "plt.bar(p_methods, sales.groupby('Payment').sum()['Total'], color = 'grey')\n",
    "\n",
    "plt.title(\"Total sales by payment\")\n",
    "plt.ylabel('Sales in Kyat (K)')\n",
    "plt.xlabel('')\n",
    "plt.ylim(0, 200000)\n",
    "\n",
    "# plot 2:\n",
    "plt.subplot(1, 2, 2)\n",
    "gender = ['Male', 'Female']\n",
    "plt.bar(gender, sales.groupby('Gender').sum()['Total'], color = 'grey')\n",
    "\n",
    "plt.title(\"Total sales by Gender\")\n",
    "plt.ylabel('Sales in Kyat (K)')\n",
    "plt.xlabel('')\n",
    "plt.ylim(0, 200000)\n",
    "\n",
    "plt.show()"
   ]
  },
  {
   "cell_type": "markdown",
   "id": "485643d9",
   "metadata": {},
   "source": [
    "Based on the charts, **Male** customers purchased more products in supermarket and even we are in digital age where we can pay it through our digital wallets and credit cards, customers prefered paying through **Cash** for better to control their spending."
   ]
  }
 ],
 "metadata": {
  "kernelspec": {
   "display_name": "Python 3 (ipykernel)",
   "language": "python",
   "name": "python3"
  },
  "language_info": {
   "codemirror_mode": {
    "name": "ipython",
    "version": 3
   },
   "file_extension": ".py",
   "mimetype": "text/x-python",
   "name": "python",
   "nbconvert_exporter": "python",
   "pygments_lexer": "ipython3",
   "version": "3.9.12"
  }
 },
 "nbformat": 4,
 "nbformat_minor": 5
}
